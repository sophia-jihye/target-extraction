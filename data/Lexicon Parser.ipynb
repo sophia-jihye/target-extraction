{
 "cells": [
  {
   "cell_type": "code",
   "execution_count": 25,
   "metadata": {
    "collapsed": true
   },
   "outputs": [],
   "source": [
    "import os, json"
   ]
  },
  {
   "cell_type": "code",
   "execution_count": 32,
   "metadata": {},
   "outputs": [
    {
     "name": "stdout",
     "output_type": "stream",
     "text": [
      "Number of positive words: 2005\n",
      "Number of positive words: 4783\n"
     ]
    }
   ],
   "source": [
    "opinion_words = []\n",
    "with open(os.path.join('raw', 'sentiment-lexicon', 'positive-words.txt'), 'r') as f:\n",
    "    lines = f.readlines()\n",
    "    for idx, line in enumerate(lines):\n",
    "        if idx >= 31: opinion_words.extend(line.split())\n",
    "        pos_num = len(opinion_words)\n",
    "    print('Number of positive words: %d' % pos_num)\n",
    "            \n",
    "with open(os.path.join('raw', 'sentiment-lexicon', 'negative-words.txt'), 'r', encoding='cp1252') as f:\n",
    "    lines = f.readlines()\n",
    "    for idx, line in enumerate(lines):\n",
    "        if idx >= 31: opinion_words.extend(line.split())\n",
    "    print('Number of positive words: %d' % (len(opinion_words)-pos_num))"
   ]
  },
  {
   "cell_type": "code",
   "execution_count": 33,
   "metadata": {},
   "outputs": [
    {
     "name": "stdout",
     "output_type": "stream",
     "text": [
      "Created file: parsed/lexicon_6788.json\n"
     ]
    }
   ],
   "source": [
    "filepath = os.path.join('parsed', 'lexicon_%d.json' % len(opinion_words))\n",
    "with open(filepath, 'w+') as json_file:\n",
    "    json.dump(opinion_words, json_file)\n",
    "    print('Created file:', filepath)"
   ]
  },
  {
   "cell_type": "code",
   "execution_count": 35,
   "metadata": {},
   "outputs": [
    {
     "data": {
      "text/plain": [
       "['abound',\n",
       " 'abounds',\n",
       " 'abundance',\n",
       " 'abundant',\n",
       " 'accessable',\n",
       " 'accessible',\n",
       " 'acclaim',\n",
       " 'acclaimed',\n",
       " 'acclamation',\n",
       " 'accolade']"
      ]
     },
     "execution_count": 35,
     "metadata": {},
     "output_type": "execute_result"
    }
   ],
   "source": [
    "with open(filepath,\"r\") as f:\n",
    "    d = json.load(f)\n",
    "d[:10]"
   ]
  }
 ],
 "metadata": {
  "kernelspec": {
   "display_name": "Python 3",
   "language": "python",
   "name": "python3"
  },
  "language_info": {
   "codemirror_mode": {
    "name": "ipython",
    "version": 3
   },
   "file_extension": ".py",
   "mimetype": "text/x-python",
   "name": "python",
   "nbconvert_exporter": "python",
   "pygments_lexer": "ipython3",
   "version": "3.6.13"
  }
 },
 "nbformat": 4,
 "nbformat_minor": 2
}
