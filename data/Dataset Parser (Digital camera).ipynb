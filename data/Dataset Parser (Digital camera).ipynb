{
 "cells": [
  {
   "cell_type": "code",
   "execution_count": 1,
   "metadata": {},
   "outputs": [],
   "source": [
    "import os\n",
    "import pandas as pd \n",
    "from ReviewSentence import ReviewSentence"
   ]
  },
  {
   "cell_type": "code",
   "execution_count": 2,
   "metadata": {},
   "outputs": [
    {
     "name": "stdout",
     "output_type": "stream",
     "text": [
      "Processing raw/five/Creative Labs Nomad Jukebox Zen Xtra 40GB.txt..\n",
      "Processing raw/five/Apex AD2600 Progressive-scan DVD player.txt..\n",
      "Processing raw/five/Nikon coolpix 4300.txt..\n",
      "Processing raw/five/Nokia 6610.txt..\n",
      "Processing raw/five/Canon G3.txt..\n",
      "# of duplicates: 42\n"
     ]
    }
   ],
   "source": [
    "dfs = []\n",
    "versions = ['five']\n",
    "for version in versions:\n",
    "    source_dir = os.path.join('raw', version)\n",
    "    for filename in os.listdir(source_dir):\n",
    "        if filename == \"Readme.txt\":\n",
    "            continue\n",
    "\n",
    "        rows = []\n",
    "        filepath = os.path.join(source_dir, filename)\n",
    "        print(\"Processing %s..\" % filepath)\n",
    "\n",
    "        with open(filepath, encoding=\"utf-8\") as lines:\n",
    "            for ln in lines:\n",
    "                line = ln.strip().replace(\"\\t\", \" \")\n",
    "                r = ReviewSentence.parse(line)\n",
    "                if r is not None:\n",
    "                    if r.sentence_type == 'review':\n",
    "                        rows.append(r.to_row())\n",
    "        df = pd.DataFrame.from_records(rows, columns=(\"content\", \"raw_targets\"))\n",
    "        df['filename'] = filename.replace('.txt', '')\n",
    "        dfs.append(df)\n",
    "concat_df = pd.concat(dfs, ignore_index=True)\n",
    "\n",
    "before_ = len(concat_df)\n",
    "concat_df = concat_df.drop_duplicates(subset=['content'])\n",
    "print('# of duplicates:', before_ - len(concat_df))"
   ]
  },
  {
   "cell_type": "code",
   "execution_count": 3,
   "metadata": {},
   "outputs": [],
   "source": [
    "def domain_by_filename(filename):\n",
    "    if filename == 'Creative Labs Nomad Jukebox Zen Xtra 40GB': return 'MP3 player'\n",
    "    if filename == 'Apex AD2600 Progressive-scan DVD player': return 'DVD player'\n",
    "    if filename == 'Nikon coolpix 4300': return 'Digital camera'\n",
    "    if filename == 'Nokia 6610': return 'Cell phone'\n",
    "    if filename == 'Canon G3': return 'Digital camera'\n",
    "    if filename == 'Speaker': return 'Speaker'\n",
    "    if filename == 'Router': return 'Wireless router'\n",
    "    if filename == 'Computer': return 'Computer'\n",
    "concat_df['domain'] = concat_df.apply(lambda x: domain_by_filename(x['filename']), axis=1)"
   ]
  },
  {
   "cell_type": "code",
   "execution_count": 4,
   "metadata": {},
   "outputs": [
    {
     "data": {
      "text/html": [
       "<div>\n",
       "<style scoped>\n",
       "    .dataframe tbody tr th:only-of-type {\n",
       "        vertical-align: middle;\n",
       "    }\n",
       "\n",
       "    .dataframe tbody tr th {\n",
       "        vertical-align: top;\n",
       "    }\n",
       "\n",
       "    .dataframe thead th {\n",
       "        text-align: right;\n",
       "    }\n",
       "</style>\n",
       "<table border=\"1\" class=\"dataframe\">\n",
       "  <thead>\n",
       "    <tr style=\"text-align: right;\">\n",
       "      <th></th>\n",
       "      <th>content</th>\n",
       "      <th>raw_targets</th>\n",
       "      <th>filename</th>\n",
       "      <th>domain</th>\n",
       "    </tr>\n",
       "  </thead>\n",
       "  <tbody>\n",
       "    <tr>\n",
       "      <th>0</th>\n",
       "      <td>this is an edited review , now that i have had...</td>\n",
       "      <td>[]</td>\n",
       "      <td>Creative Labs Nomad Jukebox Zen Xtra 40GB</td>\n",
       "      <td>MP3 player</td>\n",
       "    </tr>\n",
       "    <tr>\n",
       "      <th>1</th>\n",
       "      <td>while , there are flaws with the machine , the...</td>\n",
       "      <td>[affordability]</td>\n",
       "      <td>Creative Labs Nomad Jukebox Zen Xtra 40GB</td>\n",
       "      <td>MP3 player</td>\n",
       "    </tr>\n",
       "    <tr>\n",
       "      <th>2</th>\n",
       "      <td>it is the most bang-for-the-buck out there .</td>\n",
       "      <td>[bang-for-the-buck]</td>\n",
       "      <td>Creative Labs Nomad Jukebox Zen Xtra 40GB</td>\n",
       "      <td>MP3 player</td>\n",
       "    </tr>\n",
       "    <tr>\n",
       "      <th>3</th>\n",
       "      <td>like it 's predecessor , the quickly revised n...</td>\n",
       "      <td>[size, weight, navigational system, sound]</td>\n",
       "      <td>Creative Labs Nomad Jukebox Zen Xtra 40GB</td>\n",
       "      <td>MP3 player</td>\n",
       "    </tr>\n",
       "    <tr>\n",
       "      <th>4</th>\n",
       "      <td>the xtra improves upon the zen nx with a large...</td>\n",
       "      <td>[screen]</td>\n",
       "      <td>Creative Labs Nomad Jukebox Zen Xtra 40GB</td>\n",
       "      <td>MP3 player</td>\n",
       "    </tr>\n",
       "  </tbody>\n",
       "</table>\n",
       "</div>"
      ],
      "text/plain": [
       "                                             content  \\\n",
       "0  this is an edited review , now that i have had...   \n",
       "1  while , there are flaws with the machine , the...   \n",
       "2       it is the most bang-for-the-buck out there .   \n",
       "3  like it 's predecessor , the quickly revised n...   \n",
       "4  the xtra improves upon the zen nx with a large...   \n",
       "\n",
       "                                  raw_targets  \\\n",
       "0                                          []   \n",
       "1                             [affordability]   \n",
       "2                         [bang-for-the-buck]   \n",
       "3  [size, weight, navigational system, sound]   \n",
       "4                                    [screen]   \n",
       "\n",
       "                                    filename      domain  \n",
       "0  Creative Labs Nomad Jukebox Zen Xtra 40GB  MP3 player  \n",
       "1  Creative Labs Nomad Jukebox Zen Xtra 40GB  MP3 player  \n",
       "2  Creative Labs Nomad Jukebox Zen Xtra 40GB  MP3 player  \n",
       "3  Creative Labs Nomad Jukebox Zen Xtra 40GB  MP3 player  \n",
       "4  Creative Labs Nomad Jukebox Zen Xtra 40GB  MP3 player  "
      ]
     },
     "execution_count": 4,
     "metadata": {},
     "output_type": "execute_result"
    }
   ],
   "source": [
    "concat_df.head()"
   ]
  },
  {
   "cell_type": "code",
   "execution_count": 5,
   "metadata": {},
   "outputs": [
    {
     "name": "stdout",
     "output_type": "stream",
     "text": [
      "Created: parsed/five_3903.json\n"
     ]
    }
   ],
   "source": [
    "filepath = os.path.join('parsed', '%s_%d.json' % ('-'.join(versions), len(concat_df)))\n",
    "concat_df.to_json(filepath)\n",
    "print('Created: %s' % filepath)"
   ]
  },
  {
   "cell_type": "code",
   "execution_count": 6,
   "metadata": {},
   "outputs": [
    {
     "name": "stdout",
     "output_type": "stream",
     "text": [
      "Created: parsed/five_3903.csv\n"
     ]
    }
   ],
   "source": [
    "filepath = os.path.join('parsed', '%s_%d.csv' % ('-'.join(versions), len(concat_df)))\n",
    "concat_df.to_csv(filepath)\n",
    "print('Created: %s' % filepath)"
   ]
  }
 ],
 "metadata": {
  "kernelspec": {
   "display_name": "Python 3",
   "language": "python",
   "name": "python3"
  },
  "language_info": {
   "codemirror_mode": {
    "name": "ipython",
    "version": 3
   },
   "file_extension": ".py",
   "mimetype": "text/x-python",
   "name": "python",
   "nbconvert_exporter": "python",
   "pygments_lexer": "ipython3",
   "version": "3.6.13"
  }
 },
 "nbformat": 4,
 "nbformat_minor": 2
}
